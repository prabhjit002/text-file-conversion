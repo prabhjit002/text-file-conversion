{
  "nbformat": 4,
  "nbformat_minor": 0,
  "metadata": {
    "colab": {
      "provenance": [],
      "authorship_tag": "ABX9TyNiS4dsU4OUJezZEUukqSmg",
      "include_colab_link": true
    },
    "kernelspec": {
      "name": "python3",
      "display_name": "Python 3"
    },
    "language_info": {
      "name": "python"
    }
  },
  "cells": [
    {
      "cell_type": "markdown",
      "metadata": {
        "id": "view-in-github",
        "colab_type": "text"
      },
      "source": [
        "<a href=\"https://colab.research.google.com/github/prabhjit002/text-file-conversion/blob/main/textfileconversion.ipynb\" target=\"_parent\"><img src=\"https://colab.research.google.com/assets/colab-badge.svg\" alt=\"Open In Colab\"/></a>"
      ]
    },
    {
      "cell_type": "markdown",
      "source": [
        "Compare the performance (time taken) of C, C++, Java, R, and Python programs for\n",
        "1. Convert 200MB, 400 MB, 600 MB, 800 MB, and 1000MB text files to upper case.\n"
      ],
      "metadata": {
        "id": "XEEbwQN3x7go"
      }
    },
    {
      "cell_type": "markdown",
      "source": [
        "Prepare text files of sizes 200MB, 400MB, 600MB, 800MB, and 1000MB.\n"
      ],
      "metadata": {
        "id": "Khjnin880adn"
      }
    },
    {
      "cell_type": "markdown",
      "source": [
        "Run the programs and measure the execution time for each file size in each language."
      ],
      "metadata": {
        "id": "pZj0NIUJ0p1a"
      }
    },
    {
      "cell_type": "markdown",
      "source": [
        "c"
      ],
      "metadata": {
        "id": "EsUxjMV6yVN_"
      }
    },
    {
      "cell_type": "code",
      "source": [
        "#include <stdio.h>\n",
        "#include <ctype.h>\n",
        "#include <stdlib.h>\n",
        "\n",
        "void to_uppercase(const char* input_file, const char* output_file) {\n",
        "    FILE *in = fopen(input_file, \"r\");\n",
        "    FILE *out = fopen(output_file, \"w\");\n",
        "    if (in == NULL || out == NULL) {\n",
        "        perror(\"File opening failed\");\n",
        "        return;\n",
        "    }\n",
        "\n",
        "    int ch;\n",
        "    while ((ch = fgetc(in)) != EOF) {\n",
        "        fputc(toupper(ch), out);\n",
        "    }\n",
        "\n",
        "    fclose(in);\n",
        "    fclose(out);\n",
        "}\n",
        "\n",
        "int main(int argc, char *argv[]) {\n",
        "    if (argc != 3) {\n",
        "        fprintf(stderr, \"Usage: %s input_file output_file\\n\", argv[0]);\n",
        "        return 1;\n",
        "    }\n",
        "    to_uppercase(argv[1], argv[2]);\n",
        "    return 0;\n",
        "}\n"
      ],
      "metadata": {
        "colab": {
          "base_uri": "https://localhost:8080/",
          "height": 106
        },
        "id": "u4brpc4PyWX1",
        "outputId": "8fa47fe8-760a-44ea-a0f3-1bb641260e2c"
      },
      "execution_count": 7,
      "outputs": [
        {
          "output_type": "error",
          "ename": "SyntaxError",
          "evalue": "invalid syntax (<ipython-input-7-c6e8570982fb>, line 5)",
          "traceback": [
            "\u001b[0;36m  File \u001b[0;32m\"<ipython-input-7-c6e8570982fb>\"\u001b[0;36m, line \u001b[0;32m5\u001b[0m\n\u001b[0;31m    void to_uppercase(const char* input_file, const char* output_file) {\u001b[0m\n\u001b[0m         ^\u001b[0m\n\u001b[0;31mSyntaxError\u001b[0m\u001b[0;31m:\u001b[0m invalid syntax\n"
          ]
        }
      ]
    },
    {
      "cell_type": "markdown",
      "source": [
        "c++"
      ],
      "metadata": {
        "id": "9CcRMhSszGmA"
      }
    },
    {
      "cell_type": "code",
      "source": [
        "#include <iostream>\n",
        "#include <fstream>\n",
        "#include <cctype>\n",
        "\n",
        "void to_uppercase(const std::string& input_file, const std::string& output_file) {\n",
        "    std::ifstream in(input_file);\n",
        "    std::ofstream out(output_file);\n",
        "    if (!in.is_open() || !out.is_open()) {\n",
        "        std::cerr << \"File opening failed\" << std::endl;\n",
        "        return;\n",
        "    }\n",
        "\n",
        "    char ch;\n",
        "    while (in.get(ch)) {\n",
        "        out.put(std::toupper(ch));\n",
        "    }\n",
        "}\n",
        "\n",
        "int main(int argc, char *argv[]) {\n",
        "    if (argc != 3) {\n",
        "        std::cerr << \"Usage: \" << argv[0] << \" input_file output_file\" << std::endl;\n",
        "        return 1;\n",
        "    }\n",
        "    to_uppercase(argv[1], argv[2]);\n",
        "    return 0;\n",
        "}\n"
      ],
      "metadata": {
        "id": "R_xvk_FZzIAC"
      },
      "execution_count": null,
      "outputs": []
    },
    {
      "cell_type": "markdown",
      "source": [
        "java"
      ],
      "metadata": {
        "id": "K1hrnG__zmbN"
      }
    },
    {
      "cell_type": "code",
      "source": [
        "import java.io.*;\n",
        "\n",
        "public class ToUpperCase {\n",
        "    public static void toUppercase(String inputFile, String outputFile) throws IOException {\n",
        "        BufferedReader reader = new BufferedReader(new FileReader(inputFile));\n",
        "        BufferedWriter writer = new BufferedWriter(new FileWriter(outputFile));\n",
        "\n",
        "        int ch;\n",
        "        while ((ch = reader.read()) != -1) {\n",
        "            writer.write(Character.toUpperCase(ch));\n",
        "        }\n",
        "\n",
        "        reader.close();\n",
        "        writer.close();\n",
        "    }\n",
        "\n",
        "    public static void main(String[] args) {\n",
        "        if (args.length != 2) {\n",
        "            System.err.println(\"Usage: java ToUpperCase input_file output_file\");\n",
        "            return;\n",
        "        }\n",
        "        try {\n",
        "            toUppercase(args[0], args[1]);\n",
        "        } catch (IOException e) {\n",
        "            e.printStackTrace();\n",
        "        }\n",
        "    }\n",
        "}\n"
      ],
      "metadata": {
        "id": "CmKLZ6G6znbO"
      },
      "execution_count": null,
      "outputs": []
    },
    {
      "cell_type": "markdown",
      "source": [
        "R"
      ],
      "metadata": {
        "id": "EeBotbDrzovQ"
      }
    },
    {
      "cell_type": "code",
      "source": [
        "to_uppercase <- function(input_file, output_file) {\n",
        "  con_in <- file(input_file, \"r\")\n",
        "  con_out <- file(output_file, \"w\")\n",
        "\n",
        "  while (length(line <- readLines(con_in, n = 1, warn = FALSE)) > 0) {\n",
        "    writeLines(toupper(line), con_out)\n",
        "  }\n",
        "\n",
        "  close(con_in)\n",
        "  close(con_out)\n",
        "}\n",
        "\n",
        "args <- commandArgs(trailingOnly = TRUE)\n",
        "if (length(args) != 2) {\n",
        "  stop(\"Usage: Rscript script.R input_file output_file\")\n",
        "}\n",
        "to_uppercase(args[1], args[2])\n",
        "\n",
        "\n"
      ],
      "metadata": {
        "id": "lXI7LRujzrQv"
      },
      "execution_count": null,
      "outputs": []
    },
    {
      "cell_type": "markdown",
      "source": [
        "python"
      ],
      "metadata": {
        "id": "4zorg2OPzwaY"
      }
    },
    {
      "cell_type": "code",
      "source": [
        "import sys\n",
        "\n",
        "def to_uppercase(input_file, output_file):\n",
        "    with open(input_file, 'r') as infile, open(output_file, 'w') as outfile:\n",
        "        for line in infile:\n",
        "            outfile.write(line.upper())\n",
        "\n",
        "if __name__ == \"__main__\":\n",
        "    if len(sys.argv) != 3:\n",
        "        print(\"Usage: python script.py input_file output_file\")\n",
        "        sys.exit(1)\n",
        "    to_uppercase(sys.argv[1], sys.argv[2])\n"
      ],
      "metadata": {
        "id": "9n3fazBazzLL"
      },
      "execution_count": null,
      "outputs": []
    },
    {
      "cell_type": "code",
      "source": [
        "time ./uppercase input.txt output.txt   # For C and C++\n",
        "time java ToUpperCase input.txt output.txt   # For Java\n",
        "time Rscript script.R input.txt output.txt   # For R\n",
        "time python script.py input.txt output.txt   # For Python\n"
      ],
      "metadata": {
        "colab": {
          "base_uri": "https://localhost:8080/",
          "height": 106
        },
        "id": "NQAX4x1l0EIP",
        "outputId": "bcc19e34-3851-466b-d067-9d9d31491f0a"
      },
      "execution_count": 6,
      "outputs": [
        {
          "output_type": "error",
          "ename": "SyntaxError",
          "evalue": "invalid syntax (<ipython-input-6-da3f4600d118>, line 1)",
          "traceback": [
            "\u001b[0;36m  File \u001b[0;32m\"<ipython-input-6-da3f4600d118>\"\u001b[0;36m, line \u001b[0;32m1\u001b[0m\n\u001b[0;31m    time ./uppercase input.txt output.txt   # For C and C++\u001b[0m\n\u001b[0m          ^\u001b[0m\n\u001b[0;31mSyntaxError\u001b[0m\u001b[0;31m:\u001b[0m invalid syntax\n"
          ]
        }
      ]
    }
  ]
}